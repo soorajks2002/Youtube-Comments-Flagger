{
  "nbformat": 4,
  "nbformat_minor": 0,
  "metadata": {
    "colab": {
      "provenance": []
    },
    "kernelspec": {
      "name": "python3",
      "display_name": "Python 3"
    },
    "language_info": {
      "name": "python"
    }
  },
  "cells": [
    {
      "cell_type": "markdown",
      "source": [
        "# 0. Install Required Libraries"
      ],
      "metadata": {
        "id": "VtGt7nPOdLk2"
      }
    },
    {
      "cell_type": "code",
      "source": [
        "%%capture\n",
        "! pip install google-api-python-client\n",
        "! pip install pytube\n",
        "! pip install transformers"
      ],
      "metadata": {
        "id": "GC1_BVMMFxw6"
      },
      "execution_count": 1,
      "outputs": []
    },
    {
      "cell_type": "markdown",
      "source": [
        "# 1. Import Models"
      ],
      "metadata": {
        "id": "MWKZRgZUdZcu"
      }
    },
    {
      "cell_type": "code",
      "source": [
        "from pytube import extract\n",
        "from googleapiclient.discovery import build\n",
        "import re\n",
        "from transformers import AutoTokenizer, AutoModelForSequenceClassification\n",
        "import torch"
      ],
      "metadata": {
        "id": "_Idf-1qWWOb6"
      },
      "execution_count": 2,
      "outputs": []
    },
    {
      "cell_type": "markdown",
      "source": [
        "#3. Build Google's Youtube API"
      ],
      "metadata": {
        "id": "Wq6yPir5dl2E"
      }
    },
    {
      "cell_type": "code",
      "execution_count": 3,
      "metadata": {
        "id": "odDFt90aF7IF"
      },
      "outputs": [],
      "source": [
        "api_key = \"your youtube data v3 api key\"\n",
        "service = build('youtube', 'v3', developerKey=api_key)"
      ]
    },
    {
      "cell_type": "markdown",
      "source": [
        "#4. Extract **VIDEO ID** from youtube's video url"
      ],
      "metadata": {
        "id": "X1vZOoAUdveJ"
      }
    },
    {
      "cell_type": "code",
      "source": [
        "def get_video_id (url) :\n",
        "  return extract.video_id(url)"
      ],
      "metadata": {
        "id": "PYAa1EWzWV1x"
      },
      "execution_count": 4,
      "outputs": []
    },
    {
      "cell_type": "markdown",
      "source": [
        "#5. Text cleaning for comments\n",
        "\n",
        "\n",
        "*   remove hyperlinks\n",
        "*   remove timestamps\n",
        "\n"
      ],
      "metadata": {
        "id": "NV-W8uL0e8Jp"
      }
    },
    {
      "cell_type": "code",
      "source": [
        "def clean_txt (text) :\n",
        "  text = text.lower()\n",
        "  text = re.sub(r\"(@\\[A-Za-z0-9]+)|([^0-9A-Za-z \\t])|(\\w+:\\/\\/\\S+)|^rt|http.+?\", \"\", text)\n",
        "  return text"
      ],
      "metadata": {
        "id": "Z-uzMnnhX-6q"
      },
      "execution_count": 5,
      "outputs": []
    },
    {
      "cell_type": "markdown",
      "source": [
        "#6. Extracts newest 100 comments of given url"
      ],
      "metadata": {
        "id": "CNel8CvKfQAF"
      }
    },
    {
      "cell_type": "code",
      "source": [
        "def get_comments (video_id) :\n",
        "  req = service.commentThreads().list(\n",
        "        part = \"snippet\",\n",
        "        videoId = video_id,\n",
        "        maxResults = 100\n",
        "    )\n",
        "\n",
        "  response = req.execute()\n",
        "\n",
        "  comments = []\n",
        "\n",
        "  for i in response['items'] :\n",
        "    cmt = i['snippet']['topLevelComment']['snippet']['textDisplay']\n",
        "    cmt = clean_txt(cmt)\n",
        "    comments.append(cmt)\n",
        "\n",
        "  return comments"
      ],
      "metadata": {
        "id": "W3qXTu5fGUAq"
      },
      "execution_count": 6,
      "outputs": []
    },
    {
      "cell_type": "markdown",
      "source": [
        "#7. Load required Hugging Face tokenizer and models"
      ],
      "metadata": {
        "id": "BuWwNhhWfWKx"
      }
    },
    {
      "cell_type": "code",
      "source": [
        "def load_models () :\n",
        "\n",
        "  tokenizer = AutoTokenizer.from_pretrained(\"cardiffnlp/twitter-roberta-base-sentiment\")\n",
        "  model = AutoModelForSequenceClassification.from_pretrained(\"cardiffnlp/twitter-roberta-base-sentiment\")\n",
        "\n",
        "  return tokenizer, model"
      ],
      "metadata": {
        "id": "qKYxvml4ZZAR"
      },
      "execution_count": 7,
      "outputs": []
    },
    {
      "cell_type": "code",
      "source": [
        "%%capture\n",
        "tokenizer, model = load_models()"
      ],
      "metadata": {
        "id": "IKtBPGs4ZkdX"
      },
      "execution_count": 8,
      "outputs": []
    },
    {
      "cell_type": "markdown",
      "source": [
        "#8. Prediction function"
      ],
      "metadata": {
        "id": "gYv9qrVwfhpS"
      }
    },
    {
      "cell_type": "code",
      "source": [
        "def predict (comments) :\n",
        "  for text in comments :\n",
        "    encoded_input = tokenizer(text, return_tensors='pt')\n",
        "    output = model(**encoded_input)\n",
        "    output = torch.argmax(output[0][0])\n",
        "\n",
        "    if output == 0 :\n",
        "      print(\"Negative\")\n",
        "    \n",
        "    elif output == 1 :\n",
        "      print(\"Neutral\")\n",
        "    \n",
        "    else :\n",
        "      print(\"Positive\")"
      ],
      "metadata": {
        "id": "RovoWUVgZzWG"
      },
      "execution_count": 9,
      "outputs": []
    },
    {
      "cell_type": "markdown",
      "source": [
        "#9. Main function"
      ],
      "metadata": {
        "id": "QtEy4M-Ffqok"
      }
    },
    {
      "cell_type": "code",
      "source": [
        "def show (url) :\n",
        "  url = get_video_id(url)\n",
        "  comments = get_comments(url)\n",
        "  predict(comments)"
      ],
      "metadata": {
        "id": "Q5gvmgfBa1Ef"
      },
      "execution_count": 10,
      "outputs": []
    },
    {
      "cell_type": "markdown",
      "source": [
        "#10. Example"
      ],
      "metadata": {
        "id": "NoJl0E5-f2_P"
      }
    },
    {
      "cell_type": "code",
      "source": [
        "url = \"youtube video url\"\n",
        "\n",
        "show(url)"
      ],
      "metadata": {
        "id": "M1rZNSsyc2lG"
      },
      "execution_count": null,
      "outputs": []
    }
  ]
}